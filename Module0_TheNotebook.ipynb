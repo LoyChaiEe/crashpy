{
 "cells": [
  {
   "cell_type": "markdown",
   "metadata": {},
   "source": [
    "# CrashPy\n",
    "\n",
    "**Welcome to the World of Python!** \n",
    "\n",
    "Python is a fun language to learn, and really easy to pick up even if you are new to programming. In fact, quite often, Python is easier to pick up if you do not have any programming experience whatsoever. Python is high level programming language, targeted at students and professionals from diverse backgrounds.\n",
    "\n",
    "This set of examples are in Python 3, written and executed in the beautifully simple IDE Jupyter Notebook. As Notebooks are rendered in the browser as web applications, they can support a wide range of frontend elements, including cells (code and markdown), graphics, animation and interactivity. Note that Jupyter initializes a local server running python at the backend (on your own computer), and renders the frontend through a Notebook environment at `localhost:8888`. Keep the backend server (generally runs on your terminal for Linux/Mac or Anaconda Prompt for Windows) running so that the frontend notebook interface can access Python. \n",
    "\n",
    "Once you are familiar with the Notebook environment, and the basic Python syntax on this page, feel free to explore the other Modules in this repository.\n",
    "\n",
    "**License Declaration** : Following the lead from the inspirations for this material, and the *spirit* of Python education and development, all modules of this work are licensed under the Creative Commons Attribution 3.0 Unported License. To view a copy of this license, visit http://creativecommons.org/licenses/by/3.0/.\n",
    "\n",
    "---"
   ]
  },
  {
   "cell_type": "markdown",
   "metadata": {},
   "source": [
    "## Cells in the Notebook\n",
    "\n",
    "Notebook is a collection of Cells that can execute. The cell below is a 'Code' cell, and it can execute Python code. This particular text-block is also a Cell in the Notebook, and it can render 'Markdown' code. You may press \"SHIFT+ENTER\" to execute a specific Cell, and it will execute either Python or Markdown."
   ]
  },
  {
   "cell_type": "code",
   "execution_count": null,
   "metadata": {},
   "outputs": [],
   "source": [
    "# This is a typical Cell in the Notebook; it can execute\n",
    "# This particular Cell is a 'Code' cell; executes Python"
   ]
  },
  {
   "cell_type": "code",
   "execution_count": null,
   "metadata": {},
   "outputs": [],
   "source": [
    "# Execute to Print\n",
    "print(\"Hello World\")"
   ]
  },
  {
   "cell_type": "code",
   "execution_count": null,
   "metadata": {},
   "outputs": [],
   "source": [
    "# Execute to Compute\n",
    "1+2"
   ]
  },
  {
   "cell_type": "code",
   "execution_count": null,
   "metadata": {},
   "outputs": [],
   "source": [
    "# Execute to Compute and Print\n",
    "print(1+2)"
   ]
  },
  {
   "cell_type": "code",
   "execution_count": null,
   "metadata": {},
   "outputs": [],
   "source": [
    "# The Commented parts in a Cell do not Execute\n",
    "print(\"Hello\", 1+2)           # Inline comment"
   ]
  },
  {
   "cell_type": "markdown",
   "metadata": {},
   "source": [
    "---\n",
    "\n",
    "## Basic Syntax\n",
    "\n",
    "You may write simple Python expressions and commands in the Cells to start with. The basic syntax should abide by the following rules.\n",
    "\n",
    "- No extra space. Statements should start at the beginning of the line, unless you need indentation for control (discussed later).\n",
    "- Statements always finish at the end of a line, unless there is an open bracket, or a `\\` marker for continuation to a new line.\n",
    "- Single-Line Comments always start with the `#` character, which indicates that the rest of the line is a comment in Python.\n",
    "- You may also have a Multi-Line Comment, using the `'''` tag, which are generally used for Documentation in Python.\n",
    "- Variable Names should not start with Numbers or Special Characters, and please stay away of the Python Keywords.\n",
    "\n",
    "Further details on *good practices* of Python programming : https://docs.python-guide.org/writing/style/"
   ]
  },
  {
   "cell_type": "code",
   "execution_count": null,
   "metadata": {},
   "outputs": [],
   "source": [
    "# Fine\n",
    "print(\"Hello\")\n",
    "print(\"World!\")"
   ]
  },
  {
   "cell_type": "code",
   "execution_count": null,
   "metadata": {},
   "outputs": [],
   "source": [
    "# Illegal\n",
    "print(\"Hello\")\n",
    "    print(\"World!\")"
   ]
  },
  {
   "cell_type": "code",
   "execution_count": null,
   "metadata": {},
   "outputs": [],
   "source": [
    "# Fine\n",
    "1 + 2 + 3"
   ]
  },
  {
   "cell_type": "code",
   "execution_count": null,
   "metadata": {},
   "outputs": [],
   "source": [
    "# Illegal in general\n",
    "1 + 2\n",
    "  + 3"
   ]
  },
  {
   "cell_type": "code",
   "execution_count": null,
   "metadata": {},
   "outputs": [],
   "source": [
    "# Fine with open bracket\n",
    "(1 + 2\n",
    "   + 3)"
   ]
  },
  {
   "cell_type": "code",
   "execution_count": null,
   "metadata": {},
   "outputs": [],
   "source": [
    "# Fine with newline marker\n",
    "1 + 2 \\\n",
    "  + 3"
   ]
  },
  {
   "cell_type": "code",
   "execution_count": null,
   "metadata": {},
   "outputs": [],
   "source": [
    "'''This is a Multi-Line Comment in Python\n",
    "   Used quite often for Documentation'''\n",
    "print(\"Hello World!\")"
   ]
  },
  {
   "cell_type": "markdown",
   "metadata": {},
   "source": [
    "---\n",
    "\n",
    "## Getting Help\n",
    "\n",
    "To get help on anything in Python, use the `help()` command. Note that it continues executing unless you Stop it from the menubar."
   ]
  },
  {
   "cell_type": "code",
   "execution_count": 1,
   "metadata": {},
   "outputs": [
    {
     "name": "stdout",
     "output_type": "stream",
     "text": [
      "\n",
      "Welcome to Python 3.10's help utility!\n",
      "\n",
      "If this is your first time using Python, you should definitely check out\n",
      "the tutorial on the internet at https://docs.python.org/3.10/tutorial/.\n",
      "\n",
      "Enter the name of any module, keyword, or topic to get help on writing\n",
      "Python programs and using Python modules.  To quit this help utility and\n",
      "return to the interpreter, just type \"quit\".\n",
      "\n",
      "To get a list of available modules, keywords, symbols, or topics, type\n",
      "\"modules\", \"keywords\", \"symbols\", or \"topics\".  Each module also comes\n",
      "with a one-line summary of what it does; to list the modules whose name\n",
      "or summary contain a given string such as \"spam\", type \"modules spam\".\n",
      "\n",
      "\n",
      "You are now leaving help and returning to the Python interpreter.\n",
      "If you want to ask for help on a particular object directly from the\n",
      "interpreter, you can type \"help(object)\".  Executing \"help('string')\"\n",
      "has the same effect as typing a particular string at the help> prompt.\n"
     ]
    }
   ],
   "source": [
    "help()"
   ]
  },
  {
   "cell_type": "code",
   "execution_count": null,
   "metadata": {},
   "outputs": [],
   "source": []
  }
 ],
 "metadata": {
  "kernelspec": {
   "display_name": "Python 3.10.4 64-bit",
   "language": "python",
   "name": "python3"
  },
  "language_info": {
   "codemirror_mode": {
    "name": "ipython",
    "version": 3
   },
   "file_extension": ".py",
   "mimetype": "text/x-python",
   "name": "python",
   "nbconvert_exporter": "python",
   "pygments_lexer": "ipython3",
   "version": "3.10.4"
  },
  "vscode": {
   "interpreter": {
    "hash": "fb16ee94e77223dcc71ac997419eeb30a51135f723b89ce2c38e68c5714bfcb9"
   }
  }
 },
 "nbformat": 4,
 "nbformat_minor": 2
}
